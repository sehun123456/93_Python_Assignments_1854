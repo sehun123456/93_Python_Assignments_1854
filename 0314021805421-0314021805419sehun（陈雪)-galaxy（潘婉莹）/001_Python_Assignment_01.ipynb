{
 "cells": [
  {
   "cell_type": "markdown",
   "metadata": {},
   "source": [
    "    JLUFE                                                     Spring 2021 (Feb-July) \n",
    "\n",
    "                             Final Assignment Report        \n",
    "                                 \n",
    "                          \n",
    "                     JILIN UNIVERSITY OF FINANCE AND ECONOMICS  \n",
    "\n",
    "      Department of College of Managment Science and Information Engineering\n",
    "           \n",
    "                    Specialty Of Information Management and Information System\n",
    "                                  \n",
    "                                     (2021)\n",
    "                                          \n",
    "                              \n",
    "                                   \n",
    "                            Final Assignment: Part 01\n",
    "                                          \n",
    "                                   12/07/2021\n",
    "                                      \n",
    "                               MODULE: Data Mining \n",
    "                               \n",
    "                  Submitted by: Sehun(陈雪) 0314021805421 (1854)\n",
    "                                 QQ: 2112440859 GitHub ID:sehun123456"
   ]
  },
  {
   "cell_type": "markdown",
   "metadata": {},
   "source": [
    "# RULES:\n",
    "\n",
    "1. I have added tips and required learning resources for each question, which helps you to solve the exercise. \n",
    "\n",
    "2. Finish the assignment on your **OWN** (**Any student find copying/sharing from classmates or internet will get '0' points!!!**)\n",
    "\n",
    "3. Once you finish the Assignment **[convert your .ipynb file into PDF](https://github.com/milaan9/91_Python_Tips/blob/main/000_Convert_Jupyter_Notebook_to_PDF.ipynb)** (both .pynb and .pdf file will be required!)\n",
    "\n",
    "4. Create **.zip** file and include your two files:\n",
    "    1. Your Jupyter Notebook file (**001_Python_Assignment_01.ipynb**)\n",
    "    2. Your PDF converted file of 001_Python_Assignment_01.ipynb (**001_Python_Assignment_01.pdf**)\n",
    "    \n",
    "5. Name your .zip file as your student number and name.\n",
    "   example: **0318021907632 Milan(米兰).zip**"
   ]
  },
  {
   "cell_type": "markdown",
   "metadata": {},
   "source": [
    "# Python Assignment 01"
   ]
  },
  {
   "cell_type": "markdown",
   "metadata": {},
   "source": [
    "### Question 1: \n",
    "\n",
    "Write a python program that generates a list containing only common elements between the two lists (without duplicates). Make sure your program works on two lists of different sizes.\n",
    "\n",
    "Expected Output:\n",
    "```\n",
    "List 1: [0, 2, 4, 6, 12, 13, 14, 18, 20, 24, 25, 26, 27]\n",
    "List 2: [0, 4, 7, 9, 10, 11, 13, 14, 17, 18, 20, 33, 39]\n",
    "List of common elements are:  [0, 4, 13, 14, 18, 20]\n",
    "```\n",
    "\n",
    "For extra points:\n",
    "1. Generate the two list randomly to test this\n",
    "2. Generate each list in one line of Python."
   ]
  },
  {
   "cell_type": "code",
   "execution_count": 27,
   "metadata": {},
   "outputs": [
    {
     "data": {
      "text/plain": [
       "[3, 5, 14, 15, 18, 19, 20, 21, 23, 30, 39]"
      ]
     },
     "execution_count": 27,
     "metadata": {},
     "output_type": "execute_result"
    }
   ],
   "source": [
    "# Solution 1: \n",
    "import random\n",
    "num=random.randint(10,30)\n",
    "a=[random.randint(0,40) for i in range(num)]\n",
    "b=[random.randint(0,40) for i in range(num)]\n",
    "\n",
    "def common_elements(ls1,ls2):\n",
    "    ls1=list(set(ls1))\n",
    "    ls=[]\n",
    "    for l1 in ls1:\n",
    "        if l1 in ls2:\n",
    "            ls.append(l1)\n",
    "    ls.sort()\n",
    "    return ls\n",
    "\n",
    "common_elements(a,b)"
   ]
  },
  {
   "cell_type": "markdown",
   "metadata": {},
   "source": [
    "### Question 2: \n",
    "\n",
    "Write a python program to find the gravitational force acting between two objects.\n",
    "\n",
    "\\begin{equation*}\n",
    "F=G\\frac{{m_1}{m_2}}{{r^2}}\n",
    "\\end{equation*}\n",
    "\n",
    "Expected Output:\n",
    "```\n",
    "Enter the first mass (m1): 5000000\n",
    "Enter the second mass (m2): 900000\n",
    "Enter the distance between the centres of the masses (N): 30\n",
    "Hence, the Gravitational Force is:  0.33 N\n",
    "```"
   ]
  },
  {
   "cell_type": "code",
   "execution_count": 30,
   "metadata": {},
   "outputs": [
    {
     "data": {
      "text/plain": [
       "0.333"
      ]
     },
     "execution_count": 30,
     "metadata": {},
     "output_type": "execute_result"
    }
   ],
   "source": [
    "# Solution 2: \n",
    "G = 6.66*pow(10, -11)\n",
    "\n",
    "def force(m1,m2,r):\n",
    "    return G*m1*m2/r/r\n",
    "\n",
    "force(5000000,900000,30)"
   ]
  },
  {
   "cell_type": "markdown",
   "metadata": {},
   "source": [
    "### Question 3: \n",
    "\n",
    "Write a python program that generates a new list that contains only even elements from the randomly generated list.\n",
    "\n",
    "Expected Output:\n",
    "```\n",
    "Randomly generated list: [64, 63, 90, 13, 38, 27, 19, 51, 97, 32, 18, 75]\n",
    "List of even elements: [64, 90, 38, 32, 18]\n",
    "```"
   ]
  },
  {
   "cell_type": "code",
   "execution_count": 34,
   "metadata": {},
   "outputs": [
    {
     "name": "stdout",
     "output_type": "stream",
     "text": [
      "[2, 5, 8, 80, 49, 84, 90, 59, 29, 94]\n"
     ]
    },
    {
     "data": {
      "text/plain": [
       "[2, 8, 80, 84, 90, 94]"
      ]
     },
     "execution_count": 34,
     "metadata": {},
     "output_type": "execute_result"
    }
   ],
   "source": [
    "# Solution 3: \n",
    "num=random.randint(10,30)\n",
    "a=[random.randint(0,100) for i in range(num)]\n",
    "print(list(set(a)))\n",
    "ls=[]\n",
    "for one in set(a):\n",
    "    if one%2==0:\n",
    "        ls.append(one)\n",
    "ls"
   ]
  },
  {
   "cell_type": "markdown",
   "metadata": {},
   "source": [
    "### Question 4: \n",
    "\n",
    "Write a python program to check if a substring is present in a given string.\n",
    "\n",
    "Expected Output:\n",
    "```\n",
    "Enter string: Hello world\n",
    "Enter word: world\n",
    "Substring in string!\n",
    "```"
   ]
  },
  {
   "cell_type": "code",
   "execution_count": 35,
   "metadata": {},
   "outputs": [
    {
     "name": "stdout",
     "output_type": "stream",
     "text": [
      "Substring in string!\n"
     ]
    }
   ],
   "source": [
    "# Solution 4: \n",
    "\n",
    "def ifasubstr(string,word):\n",
    "    if word in string:\n",
    "        print('Substring in string!')\n",
    "    else:\n",
    "        print('Substring not in string!')\n",
    "\n",
    "ifasubstr('Hello world','world')"
   ]
  },
  {
   "cell_type": "markdown",
   "metadata": {},
   "source": [
    "### Question 5: \n",
    "\n",
    "Write a python program that asks the user last 2 digit of (your) student number and generates Fibonacci series.\n",
    "\n",
    "Expected Output:\n",
    "```\n",
    "How many numbers that generates?: 12\n",
    "Fibonacci series:\n",
    " [1, 1, 2, 3, 5, 8, 13, 21, 34, 55, 89, 144]\n",
    "```"
   ]
  },
  {
   "cell_type": "code",
   "execution_count": 37,
   "metadata": {},
   "outputs": [
    {
     "name": "stdout",
     "output_type": "stream",
     "text": [
      "How many numbers that generates?: 12\n"
     ]
    },
    {
     "data": {
      "text/plain": [
       "[1, 1, 2, 3, 5, 8, 13, 21, 34, 55, 89, 144]"
      ]
     },
     "execution_count": 37,
     "metadata": {},
     "output_type": "execute_result"
    }
   ],
   "source": [
    "# Solution 5: \n",
    "num=int(input('How many numbers that generates?: '))\n",
    "ls=[]\n",
    "for i in range(num):\n",
    "    if i==0 or i==1:\n",
    "        ls.append(1)\n",
    "    else:\n",
    "        ls.append(ls[-1]+ls[-2])\n",
    "ls"
   ]
  },
  {
   "cell_type": "markdown",
   "metadata": {},
   "source": [
    "### Question 6: \n",
    "\n",
    "Write a python program using function that generates a new list that contains all the elements of the first list and removing all the duplicates.\n",
    "\n",
    "Expected Output:\n",
    "```\n",
    "List:  [1, 2, 3, 4, 3, 2, 1]\n",
    "Result List using loop:  [1, 2, 3, 4]\n",
    "Result List using sets:  [1, 2, 3, 4]\n",
    "```\n",
    "\n",
    "For extra points:\n",
    "1. Generate the result using two different functions using:\n",
    "    - one using a loop and constructing a list\n",
    "    - sets"
   ]
  },
  {
   "cell_type": "code",
   "execution_count": 40,
   "metadata": {},
   "outputs": [
    {
     "name": "stdout",
     "output_type": "stream",
     "text": [
      "[1, 2, 3, 4]\n",
      "[1, 2, 3, 4]\n"
     ]
    }
   ],
   "source": [
    "# Solution 6: \n",
    "\n",
    "def useloop(a):\n",
    "    ls=[]\n",
    "    for one in a:\n",
    "        if one not in ls:\n",
    "            ls.append(one)\n",
    "    print(ls)\n",
    "def useset(a):\n",
    "    ls=list(set(a))\n",
    "    print(ls)   \n",
    "useloop([1, 2, 3, 4, 3, 2, 1])\n",
    "useset([1, 2, 3, 4, 3, 2, 1])"
   ]
  },
  {
   "cell_type": "markdown",
   "metadata": {},
   "source": [
    "### Question 7: \n",
    "\n",
    "Write a python program using functions that asks the user for a string containing multiple words and print back to the user the same string, except with the words in reverse order.\n",
    "\n",
    "Expected Output:\n",
    "```\n",
    "Please enter a sentence: My name is Milaan\n",
    "The reverse sentence is: Milaan is name My\n",
    "```"
   ]
  },
  {
   "cell_type": "code",
   "execution_count": 41,
   "metadata": {},
   "outputs": [
    {
     "data": {
      "text/plain": [
       "'Milaan is name My'"
      ]
     },
     "execution_count": 41,
     "metadata": {},
     "output_type": "execute_result"
    }
   ],
   "source": [
    "# Solution 7: \n",
    "def revthesen(s):\n",
    "    ls=s.split()\n",
    "    ls.reverse()\n",
    "    s=' '.join(ls)\n",
    "    return s\n",
    "revthesen('My name is Milaan')"
   ]
  },
  {
   "cell_type": "markdown",
   "metadata": {},
   "source": [
    "### Question 8: \n",
    "\n",
    "Write a python program using function that encrypts a given input with these steps:\n",
    "\n",
    "Input: \"apple\"\n",
    "\n",
    "* Step 1: Reverse the input: \"elppa\"\n",
    "* Step 2: Replace all vowels using the following chart:\n",
    "\n",
    "```python\n",
    "a => 0\n",
    "e => 1\n",
    "i => 2\n",
    "o => 2\n",
    "u => 3\n",
    "# 1lpp0\n",
    "```\n",
    "\n",
    "* Step 3: Add \"aca\" to the end of the word: \"1lpp0aca\"\n",
    "\n",
    "Expected Output:\n",
    "```\n",
    "Word:  apple\n",
    "Encrypted word: 1lpp0aca\n",
    "```\n",
    "\n",
    "More Examples:\n",
    "```\n",
    "encrypt(\"banana\") ➞ \"0n0n0baca\"\n",
    "encrypt(\"karaca\") ➞ \"0c0r0kaca\"\n",
    "encrypt(\"burak\") ➞ \"k0r3baca\"\n",
    "encrypt(\"alpaca\") ➞ \"0c0pl0aca\"\n",
    "```"
   ]
  },
  {
   "cell_type": "code",
   "execution_count": 47,
   "metadata": {},
   "outputs": [
    {
     "data": {
      "text/plain": [
       "'k0r3baca'"
      ]
     },
     "execution_count": 47,
     "metadata": {},
     "output_type": "execute_result"
    }
   ],
   "source": [
    "# Solution 8: \n",
    "def encrypt(word):\n",
    "    s=''\n",
    "    for i in word:\n",
    "        if i=='a':\n",
    "            i='0'\n",
    "        elif i=='e':\n",
    "            i='1'\n",
    "        elif i=='i':\n",
    "            i='2'\n",
    "        elif i=='o':\n",
    "            i='2'\n",
    "        elif i=='u':\n",
    "            i='3'\n",
    "        s=i+s\n",
    "    return s+'aca'\n",
    "encrypt('banana')\n",
    "encrypt(\"burak\")"
   ]
  },
  {
   "cell_type": "markdown",
   "metadata": {},
   "source": [
    "### Question 9: \n",
    "\n",
    "Write a python program using function that takes a number num and returns its length.\n",
    "\n",
    "Expected Output:\n",
    "```\n",
    "Enter number: 963969\n",
    "Total digits in given number:  6\n",
    "```"
   ]
  },
  {
   "cell_type": "code",
   "execution_count": 49,
   "metadata": {},
   "outputs": [
    {
     "data": {
      "text/plain": [
       "6"
      ]
     },
     "execution_count": 49,
     "metadata": {},
     "output_type": "execute_result"
    }
   ],
   "source": [
    "# Solution 9: \n",
    "def len_num(num):\n",
    "    return len(str(int(num)))\n",
    "\n",
    "len_num('963969')"
   ]
  },
  {
   "cell_type": "markdown",
   "metadata": {},
   "source": [
    "### Question 10: \n",
    "\n",
    "Write a python program using function that takes a string and returns the number (count) of vowels contained within it.\n",
    "\n",
    "Expected Output:\n",
    "```\n",
    "Enter string: Celebration\n",
    "Total vowels in the string: 5\n",
    "Identified vowels are:  ['e', 'e', 'a', 'i', 'o']\n",
    "```\n",
    "\n",
    "More examples:\n",
    "```\n",
    "count_vowels(\"Palm\") ➞ 1\n",
    "count_vowels(\"Prediction\") ➞ 4\n",
    "```"
   ]
  },
  {
   "cell_type": "code",
   "execution_count": 6,
   "metadata": {},
   "outputs": [
    {
     "data": {
      "text/plain": [
       "4"
      ]
     },
     "execution_count": 6,
     "metadata": {},
     "output_type": "execute_result"
    }
   ],
   "source": [
    "# Solution 10: \n",
    "def vowels(word):\n",
    "    a=word.count('a')\n",
    "    e=word.count('e')\n",
    "    i=word.count('i')\n",
    "    o=word.count('o')\n",
    "    u=word.count('u')\n",
    "    return a+e+i+o+u\n",
    "vowels('Prediction')"
   ]
  },
  {
   "cell_type": "markdown",
   "metadata": {},
   "source": [
    "### Question 11:\n",
    "\n",
    "Write a python program to draw pattern as below:\n",
    "\n",
    "Expected Output:\n",
    "```\n",
    "--- --- --- \n",
    "|   |   |   |\n",
    " --- --- --- \n",
    "|   |   |   |\n",
    " --- --- --- \n",
    "|   |   |   |\n",
    " --- --- --- \n",
    "```\n",
    "\n",
    "For extra point:\n",
    "1. Generate solution by asking the user what size game board they want to draw, and draw it for them to the screen using Python’s print statement.\n",
    "\n",
    "Expected Output:\n",
    "```\n",
    "Enter the size of board you want to draw: 4\n",
    " --- --- --- ---\n",
    "|   |   |   |   |   \n",
    " --- --- --- ---\n",
    "|   |   |   |   |   \n",
    " --- --- --- ---\n",
    "|   |   |   |   |   \n",
    " --- --- --- ---\n",
    "|   |   |   |   |   \n",
    " --- --- --- ---\n",
    "```"
   ]
  },
  {
   "cell_type": "code",
   "execution_count": 13,
   "metadata": {},
   "outputs": [
    {
     "name": "stdin",
     "output_type": "stream",
     "text": [
      "Enter the size of board you want to draw: 4\n"
     ]
    },
    {
     "name": "stdout",
     "output_type": "stream",
     "text": [
      " --- --- --- ---\n",
      "|   |   |   |   |\n",
      " --- --- --- ---\n",
      "|   |   |   |   |\n",
      " --- --- --- ---\n",
      "|   |   |   |   |\n",
      " --- --- --- ---\n",
      "|   |   |   |   |\n",
      " --- --- --- ---\n"
     ]
    }
   ],
   "source": [
    "# Solution 11: \n",
    "num=int(input('Enter the size of board you want to draw:'))\n",
    "for i in range(num*2+1):\n",
    "    for j in range(num):\n",
    "        if i%2==0:\n",
    "            print(' ---',end='')\n",
    "        else:\n",
    "            print('|   ',end='')\n",
    "    if i%2==0:\n",
    "        print()\n",
    "    else:\n",
    "        print('|')"
   ]
  },
  {
   "cell_type": "markdown",
   "metadata": {},
   "source": [
    "### Question 12: \n",
    "\n",
    "Write a python program to ask user for a string and then perform following operations:\n",
    "1. Calculate the num of digits \n",
    "2. Calculate the num of characters \n",
    "3. Calculate the num of vowels\n",
    "4. Calculate the num of lowercase letters\n",
    "5. replace ' ' with '_' in the string\n",
    "6. Print and Store the ouput to 'output.txt' file.\n",
    "\n",
    "Expected Output:\n",
    "```\n",
    "Enter string: Hello World 123\n",
    "Output printed in'output.txt'\n",
    "```\n",
    "\n",
    "Expected Output in output.txt:\n",
    "```\n",
    "The entered string is: Hello World 123\n",
    "The number of digits is: 3\n",
    "The number of characters is: 15\n",
    "The number of vowels is: 3\n",
    "The number of lowercase letters is: 8\n",
    "The modified string is: Hello_World_123\n",
    "```"
   ]
  },
  {
   "cell_type": "code",
   "execution_count": 14,
   "metadata": {},
   "outputs": [
    {
     "name": "stdin",
     "output_type": "stream",
     "text": [
      "The entered string is: Hello World 123\n"
     ]
    },
    {
     "name": "stdout",
     "output_type": "stream",
     "text": [
      "Output printed in'output.txt'\n"
     ]
    }
   ],
   "source": [
    "# Solution 12: \n",
    "s=input('The entered string is:')\n",
    "ch=len(s.strip())\n",
    "d=0\n",
    "v=0\n",
    "l=0\n",
    "for a in s:\n",
    "    if a.isdigit():\n",
    "        d=d+1\n",
    "    if a.islower():\n",
    "        l=l+1\n",
    "    if a in 'aeiou':\n",
    "        v=v+1\n",
    "\n",
    "with open('output.txt','w') as f:\n",
    "    f.write('The entered string is: %s\\n' % s.strip())\n",
    "    f.write('The number of digits is: %d\\n' % d)\n",
    "    f.write('The number of characters is: %d\\n' % ch)\n",
    "    f.write('The number of vowels is: %d\\n' % v)\n",
    "    f.write('The number of lowercase letters is: %d\\n' % l)\n",
    "    f.write('The modified string is: %s\\n' % s.strip().replace(' ','_'))\n",
    "print(\"Output printed in'output.txt'\") \n",
    "        "
   ]
  },
  {
   "cell_type": "markdown",
   "metadata": {},
   "source": [
    "### Question 13: \n",
    "\n",
    "Write a python program using function that takes as input three variables from user, and returns the largest of the three. Do this without using the Python **`max()`** function!\n",
    "\n",
    "Expected Output:\n",
    "```\n",
    "Please enter three integers separated by comma: 12, 66, 31\n",
    "The maximum value is: 66 \n",
    "```"
   ]
  },
  {
   "cell_type": "code",
   "execution_count": 18,
   "metadata": {},
   "outputs": [
    {
     "name": "stdin",
     "output_type": "stream",
     "text": [
      "Please enter three integers separated by comma: 12, 66, 31\n"
     ]
    },
    {
     "name": "stdout",
     "output_type": "stream",
     "text": [
      "The maximum value is: 66\n"
     ]
    }
   ],
   "source": [
    "# Solution 13: \n",
    "\n",
    "def maxinthree(a,b,c):\n",
    "    if a>b:\n",
    "        if a>c:\n",
    "            return a\n",
    "        else:\n",
    "            return c\n",
    "    else:\n",
    "        if b>c:\n",
    "            return b\n",
    "        else:\n",
    "            return c\n",
    "\n",
    "s=input('Please enter three integers separated by comma:')\n",
    "ls=s.split(',')\n",
    "r=maxinthree(int(ls[0]),int(ls[1]),int(ls[2]))\n",
    "print('The maximum value is: %d'%r)"
   ]
  },
  {
   "cell_type": "markdown",
   "metadata": {},
   "source": [
    "### Question 14: \n",
    "\n",
    "Write a python program where user, will have a number in head between 0 and 100. The program will guess a number, and you, the user, will say whether it is too \"high\", too \"low\", or your number. Also, in the end program should print out how many guesses it took to get your number.\n",
    "\n",
    "Expected Output:\n",
    "```\n",
    "Guess a number between 0 and 100 and tell whether high or low when prompted!\n",
    "My guess is 50. Is that high, low or same? low\n",
    "My guess is 75. Is that high, low or same? low\n",
    "My guess is 88. Is that high, low or same? low\n",
    "My guess is 94. Is that high, low or same? low\n",
    "My guess is 97. Is that high, low or same? low\n",
    "My guess is 99. Is that high, low or same? same\n",
    "Congrats to me! I guessed it in 6 tries.\n",
    "```"
   ]
  },
  {
   "cell_type": "code",
   "execution_count": 20,
   "metadata": {},
   "outputs": [
    {
     "name": "stdin",
     "output_type": "stream",
     "text": [
      "My guess is  50\n"
     ]
    },
    {
     "name": "stdout",
     "output_type": "stream",
     "text": [
      "Is that high, low or same? high\n"
     ]
    },
    {
     "name": "stdin",
     "output_type": "stream",
     "text": [
      "My guess is  30\n"
     ]
    },
    {
     "name": "stdout",
     "output_type": "stream",
     "text": [
      "Is that high, low or same? high\n"
     ]
    },
    {
     "name": "stdin",
     "output_type": "stream",
     "text": [
      "My guess is  15\n"
     ]
    },
    {
     "name": "stdout",
     "output_type": "stream",
     "text": [
      "Is that high, low or same? low\n"
     ]
    },
    {
     "name": "stdin",
     "output_type": "stream",
     "text": [
      "My guess is  20\n"
     ]
    },
    {
     "name": "stdout",
     "output_type": "stream",
     "text": [
      "Is that high, low or same? low\n"
     ]
    },
    {
     "name": "stdin",
     "output_type": "stream",
     "text": [
      "My guess is  25\n"
     ]
    },
    {
     "name": "stdout",
     "output_type": "stream",
     "text": [
      "Is that high, low or same? high\n"
     ]
    },
    {
     "name": "stdin",
     "output_type": "stream",
     "text": [
      "My guess is  23\n"
     ]
    },
    {
     "name": "stdout",
     "output_type": "stream",
     "text": [
      "Is that high, low or same? high\n"
     ]
    },
    {
     "name": "stdin",
     "output_type": "stream",
     "text": [
      "My guess is  21\n"
     ]
    },
    {
     "name": "stdout",
     "output_type": "stream",
     "text": [
      "Is that high, low or same? low\n"
     ]
    },
    {
     "name": "stdin",
     "output_type": "stream",
     "text": [
      "My guess is  22\n"
     ]
    },
    {
     "name": "stdout",
     "output_type": "stream",
     "text": [
      "Is that high, low or same? same\n",
      "Congrats to me! I guessed it in 8 tries.\n"
     ]
    }
   ],
   "source": [
    "# Solution 14: \n",
    "import random\n",
    "num=random.randint(0,100)\n",
    "count=0\n",
    "while True:\n",
    "    x=int(input('My guess is '))\n",
    "    count=count+1\n",
    "    if x==num:\n",
    "        print('Is that high, low or same? same')\n",
    "        break\n",
    "    elif x>num:\n",
    "        print('Is that high, low or same? high')\n",
    "    else:\n",
    "        print('Is that high, low or same? low')\n",
    "print('Congrats to me! I guessed it in %d tries.'%count)"
   ]
  },
  {
   "cell_type": "markdown",
   "metadata": {},
   "source": [
    "### Question 15: \n",
    "\n",
    "Write a python program using function that takes an list(ordered) of numbers (from smallest to largest) and another number. The function decides whether or not the given number is inside the list and returns (then prints) an appropriate boolean.\n",
    "\n",
    ">Hint: Use binary search.\n",
    "\n",
    "Expected Output:\n",
    "```\n",
    "List:  [2, 4, 6, 8, 10]\n",
    "Find  '5': False\n",
    "Find '10': True\n",
    "Find '-1': False\n",
    "Find  '2': True\n",
    "```\n",
    "\n",
    "For extra point:\n",
    "1. Generate list randomly and select he number randomly to be search from the list."
   ]
  },
  {
   "cell_type": "code",
   "execution_count": 2,
   "metadata": {},
   "outputs": [
    {
     "name": "stdout",
     "output_type": "stream",
     "text": [
      "List: [-9, -7, -6, -3, -2, 3, 7, 10]\n",
      "Find  '6': False\n",
      "Find  '0': False\n",
      "Find  '1': False\n",
      "Find  '3': True\n"
     ]
    }
   ],
   "source": [
    "# Solution 15: \n",
    "import random\n",
    "num=random.randint(5,15)\n",
    "ls=[random.randint(-10,10) for i in range(num)]\n",
    "ls=list(set(ls))\n",
    "ls.sort()\n",
    "print('List: %s' % ls)\n",
    "an=[random.randint(-10,10) for i in range(4)]\n",
    "\n",
    "def search(ls,a):\n",
    "    x1=0\n",
    "    x2=len(ls)\n",
    "    while True:\n",
    "        b=ls[int((x1+x2)/2)]\n",
    "        if a==b:\n",
    "            return True\n",
    "        elif a>b:\n",
    "            x1=int((x1+x2)/2)\n",
    "        else:\n",
    "            x2=int((x1+x2)/2)\n",
    "        if (x1+1)>=x2:\n",
    "            return False\n",
    "        \n",
    "for a in an:\n",
    "    print(\"Find  '%d': %s\"%(a,search(ls,a)))\n",
    "    "
   ]
  },
  {
   "cell_type": "markdown",
   "metadata": {},
   "source": [
    "### Question 16: \n",
    "\n",
    "Write a python program to generate password. Be creative with how you generate passwords - strong passwords have a mix of lowercase letters, uppercase letters, numbers, and symbols. The passwords should be random, generating a new password every time the user asks for a new password. Include your code in a main method.\n",
    "\n",
    "Expected Output:\n",
    "```\n",
    "Please choose strong or weak:\n",
    "strong\n",
    "password: 6|Av.0T^9\n",
    "do you want a new password? y/n\n",
    "n\n",
    "```\n",
    "\n",
    "For extra points:\n",
    "1. Ask the user if they want password to be strong(9 characters) or weak(6 characters)?"
   ]
  },
  {
   "cell_type": "code",
   "execution_count": 9,
   "metadata": {},
   "outputs": [
    {
     "name": "stdin",
     "output_type": "stream",
     "text": [
      "Please choose strong or weak: strong\n"
     ]
    },
    {
     "name": "stdout",
     "output_type": "stream",
     "text": [
      "password: 8ah*>JQFg\n"
     ]
    },
    {
     "name": "stdin",
     "output_type": "stream",
     "text": [
      "do you want a new password? y/n y\n",
      "Please choose strong or weak: wesk\n"
     ]
    },
    {
     "name": "stdout",
     "output_type": "stream",
     "text": [
      "password: 9@Nkz(\n"
     ]
    },
    {
     "name": "stdin",
     "output_type": "stream",
     "text": [
      "do you want a new password? y/n n\n"
     ]
    }
   ],
   "source": [
    "# Solution 16: \n",
    "import random,string,re\n",
    "while True:\n",
    "    s=input('Please choose strong or weak:')\n",
    "    num=9 if s=='strong' else 6\n",
    "    passwd=''\n",
    "    while True:\n",
    "        tmp = random.sample(string.ascii_letters + string.digits + '!@#$%^&*()><?', num)\n",
    "        passwd = ''.join(tmp)\n",
    "        if re.search('[0-9]', passwd) and re.search('[A-Z]', passwd) and re.search('[a-z]', passwd) and set(tmp).intersection('!@#$%^&*()><?'):\n",
    "            break\n",
    "    print('password: %s'%passwd)\n",
    "    s=input('do you want a new password? y/n')\n",
    "    if s=='n':\n",
    "        break\n",
    "        "
   ]
  },
  {
   "cell_type": "markdown",
   "metadata": {},
   "source": [
    "### Question 17: \n",
    "\n",
    "Write a python program using function that picks a random word from a list of words from the **[dictionary](https://github.com/milaan9/92_Python_Assignments/blob/main/sowpods.txt)**. Each line in the file contains a single word.\n",
    "\n",
    ">Hint: use the Python random library for picking a random word.\n",
    "\n",
    "Expected Output:\n",
    "```\n",
    "Random word: POTENTIATING\n",
    "```"
   ]
  },
  {
   "cell_type": "code",
   "execution_count": 10,
   "metadata": {},
   "outputs": [
    {
     "name": "stdout",
     "output_type": "stream",
     "text": [
      "Random word: ASSUMINGLY\n"
     ]
    }
   ],
   "source": [
    "# Solution 17: \n",
    "import random\n",
    "with open('sowpods.txt','r') as f:\n",
    "    data=f.read().split('\\n')\n",
    "i=random.randint(0,len(data)-1)\n",
    "print('Random word: %s'%data[i])"
   ]
  },
  {
   "cell_type": "markdown",
   "metadata": {},
   "source": [
    "### Question 18: \n",
    "\n",
    "Write a python program where a text(.txt) file is given **[nameslist.txt](https://github.com/milaan9/92_Python_Assignments/blob/main/nameslist.txt)** that contains list of a bunch of names, count how many of each name there are in the file, and print out the results to the screen. \n",
    "\n",
    "Expected Output:\n",
    "```\n",
    "{'Darth': 31, 'Luke': 15, 'Leia': 54}\n",
    "```\n",
    "\n",
    "For extra point:\n",
    "1. Instead of using the **[nameslist.txt](https://github.com/milaan9/92_Python_Assignments/blob/main/nameslist.txt)** file from above (or instead of, if you want the challenge), take this **[SUN_Database.txt](https://github.com/milaan9/92_Python_Assignments/blob/main/SUN_Database.txt)** file, and count how many of each “category” of each image there are. This text file is actually a list of files corresponding to the SUN database scene recognition database, and lists the file directory hierarchy for the images. Once you take a look at the first line or two of the file, it will be clear which part represents the scene category.\n",
    "\n",
    "Expected Output:\n",
    "```\n",
    "abbey: 50\n",
    "airplane_cabin: 50\n",
    "airport_terminal: 50\n",
    "alley: 50\n",
    "amphitheater: 50\n",
    "...\n",
    "...\n",
    "...\n",
    "wrestling_ring: 50\n",
    "yard: 50\n",
    "youth_hostel: 50\n",
    "```"
   ]
  },
  {
   "cell_type": "code",
   "execution_count": 11,
   "metadata": {},
   "outputs": [
    {
     "name": "stdout",
     "output_type": "stream",
     "text": [
      "{'Darth': 31, 'Luke': 15, 'Leia': 54}\n"
     ]
    }
   ],
   "source": [
    "# Solution 18: \n",
    "\n",
    "with open('nameslist.txt','r') as f:\n",
    "    data=f.read().split('\\n')\n",
    "dic={}\n",
    "for one in data:\n",
    "    if one in dic:\n",
    "        dic[one]=dic[one]+1\n",
    "    else:\n",
    "        dic[one]=1\n",
    "print(dic)"
   ]
  },
  {
   "cell_type": "markdown",
   "metadata": {},
   "source": [
    "### Question 19: \n",
    "\n",
    "Write a python program where two .txt files are given that have lists of numbers in them, find the numbers that are overlapping. One '**[primenumbers1_1000.txt](https://github.com/milaan9/92_Python_Assignments/blob/main/primenumbers1_1000.txt)**' file has a list of all prime numbers under 1000, and the other '**[happynumbers1_1000.txt](https://github.com/milaan9/92_Python_Assignments/blob/main/happynumbers1_1000.txt)**' file has a list of **[happy numbers](https://en.wikipedia.org/wiki/Happy_number)** up to 1000.\n",
    "\n",
    "Expected Output:\n",
    "```\n",
    "The list of overlapping numbers:\n",
    " [7, 13, 19, 23, 31, 79, 97, 103, 109, 139, 167, 193, 239, 263, 293, 313, 331, 367, 379, 383, 397, 409, 487, 563, 617, 653, 673, 683, 709, 739, 761, 863, 881, 907, 937]\n",
    "```\n",
    "\n",
    "For extra point:\n",
    "1. Generate solution with functions using list comprehensions"
   ]
  },
  {
   "cell_type": "code",
   "execution_count": 13,
   "metadata": {},
   "outputs": [
    {
     "name": "stdout",
     "output_type": "stream",
     "text": [
      "[7, 13, 19, 23, 31, 79, 97, 103, 109, 139, 167, 193, 239, 263, 293, 313, 331, 367, 379, 383, 397, 487, 563, 617, 653, 673, 683, 709, 739, 761, 881, 907, 937]\n"
     ]
    }
   ],
   "source": [
    "# Solution 19: \n",
    "\n",
    "with open('primenumbers1_1000.txt','r') as f:\n",
    "    data1=f.read().split('\\n')\n",
    "with open('happynumbers1_1000.txt','r') as f:\n",
    "    data2=f.read().split('\\n')\n",
    "ls=[]\n",
    "for a in data1:\n",
    "    if a in data2:\n",
    "        ls.append(int(a))\n",
    "print(ls)"
   ]
  },
  {
   "cell_type": "markdown",
   "metadata": {},
   "source": [
    "### Question 20: \n",
    "\n",
    "Create a function that takes a string as an argument and returns the Morse code equivalent.\n",
    "\n",
    "For example:\n",
    "```\n",
    "encode_morse(\"HELP ME !\") ➞ \".... . .-.. .--.   -- .   -.-.--\"\n",
    "```\n",
    "\n",
    "Expected Output:\n",
    "```\n",
    "Enter a sentence: I love\n",
    "..   .-.. --- ...- .\n",
    "Enter morse code: .--. -.-- - .... --- -.\n",
    "PYTHON\n",
    "```\n",
    "\n",
    "This dictionary can be used for coding:\n",
    "```\n",
    "char_to_dots = {\n",
    "    'A': '.-',   'B': '-...', 'C': '-.-.', 'D': '-..',  'E': '.',    'F': '..-.',\n",
    "    'G': '--.',  'H': '....', 'I': '..',   'J': '.---', 'K': '-.-',  'L': '.-..',\n",
    "    'M': '--',   'N': '-.',   'O': '---',  'P': '.--.', 'Q': '--.-', 'R': '.-.',\n",
    "    'S': '...',  'T': '-',    'U': '..-',  'V': '...-', 'W': '.--',  'X': '-..-',\n",
    "    'Y': '-.--', 'Z': '--..',  \n",
    "        \n",
    "    '0': '-----', '1': '.----', '2': '..---', '3': '...--', '4': '....-', \n",
    "    '5': '.....', '6': '-....', '7': '--...', '8': '---..', '9': '----.',\n",
    "        \n",
    "    ' ': ' ',      '&': '.-...',  \"'\": '.----.', '@': '.--.-.', ')': '-.--.-', \n",
    "    '(': '-.--.',  ':': '---...', ',': '--..--', '=': '-...-',  '!': '-.-.--', \n",
    "    '.': '.-.-.-', '-': '-....-', '+': '.-.-.', '\"': '.-..-.',  '?': '..--..', \n",
    "    '/': '-..-.'\n",
    "}\n",
    "```"
   ]
  },
  {
   "cell_type": "code",
   "execution_count": 20,
   "metadata": {},
   "outputs": [
    {
     "name": "stdout",
     "output_type": "stream",
     "text": [
      "..   .-.. --- ...- . \n",
      "PYTHON\n"
     ]
    }
   ],
   "source": [
    "# Solution 20: \n",
    "char_to_dots = {\n",
    "    'A': '.-',   'B': '-...', 'C': '-.-.', 'D': '-..',  'E': '.',    'F': '..-.',\n",
    "    'G': '--.',  'H': '....', 'I': '..',   'J': '.---', 'K': '-.-',  'L': '.-..',\n",
    "    'M': '--',   'N': '-.',   'O': '---',  'P': '.--.', 'Q': '--.-', 'R': '.-.',\n",
    "    'S': '...',  'T': '-',    'U': '..-',  'V': '...-', 'W': '.--',  'X': '-..-',\n",
    "    'Y': '-.--', 'Z': '--..',  \n",
    "\n",
    "    '0': '-----', '1': '.----', '2': '..---', '3': '...--', '4': '....-', \n",
    "    '5': '.....', '6': '-....', '7': '--...', '8': '---..', '9': '----.',\n",
    "\n",
    "    ' ': ' ',      '&': '.-...',  \"'\": '.----.', '@': '.--.-.', ')': '-.--.-', \n",
    "    '(': '-.--.',  ':': '---...', ',': '--..--', '=': '-...-',  '!': '-.-.--', \n",
    "    '.': '.-.-.-', '-': '-....-', '+': '.-.-.', '\"': '.-..-.',  '?': '..--..', \n",
    "    '/': '-..-.'\n",
    "}\n",
    "\n",
    "def encode_morse(s):\n",
    "    r=''\n",
    "    s=s.upper()\n",
    "    for a in s:\n",
    "        r=r+char_to_dots[a]+' '\n",
    "    return r\n",
    "\n",
    "def decode_morse(s):\n",
    "    r=''\n",
    "    s=s.split()\n",
    "    for a in s:\n",
    "        for key,value in char_to_dots.items():\n",
    "            if a==value:\n",
    "                r=r+key\n",
    "    return r\n",
    "\n",
    "print(encode_morse('I love'))\n",
    "print(decode_morse('.--. -.-- - .... --- -.'))"
   ]
  },
  {
   "cell_type": "code",
   "execution_count": null,
   "metadata": {},
   "outputs": [],
   "source": []
  }
 ],
 "metadata": {
  "hide_input": false,
  "kernelspec": {
   "display_name": "Python 3",
   "language": "python",
   "name": "python3"
  },
  "language_info": {
   "codemirror_mode": {
    "name": "ipython",
    "version": 3
   },
   "file_extension": ".py",
   "mimetype": "text/x-python",
   "name": "python",
   "nbconvert_exporter": "python",
   "pygments_lexer": "ipython3",
   "version": "3.7.0"
  },
  "toc": {
   "base_numbering": 1,
   "nav_menu": {},
   "number_sections": true,
   "sideBar": true,
   "skip_h1_title": false,
   "title_cell": "Table of Contents",
   "title_sidebar": "Contents",
   "toc_cell": false,
   "toc_position": {},
   "toc_section_display": true,
   "toc_window_display": false
  },
  "varInspector": {
   "cols": {
    "lenName": 16,
    "lenType": 16,
    "lenVar": 40
   },
   "kernels_config": {
    "python": {
     "delete_cmd_postfix": "",
     "delete_cmd_prefix": "del ",
     "library": "var_list.py",
     "varRefreshCmd": "print(var_dic_list())"
    },
    "r": {
     "delete_cmd_postfix": ") ",
     "delete_cmd_prefix": "rm(",
     "library": "var_list.r",
     "varRefreshCmd": "cat(var_dic_list()) "
    }
   },
   "types_to_exclude": [
    "module",
    "function",
    "builtin_function_or_method",
    "instance",
    "_Feature"
   ],
   "window_display": false
  }
 },
 "nbformat": 4,
 "nbformat_minor": 4
}
