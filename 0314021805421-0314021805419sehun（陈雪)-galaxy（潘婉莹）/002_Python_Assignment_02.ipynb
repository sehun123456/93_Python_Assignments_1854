{
 "cells": [
  {
   "cell_type": "markdown",
   "metadata": {},
   "source": [
    "    JLUFE                                                     Spring 2021 (Feb-July) \n",
    "\n",
    "                             Final Assignment Report        \n",
    "                                 \n",
    "                          \n",
    "                     JILIN UNIVERSITY OF FINANCE AND ECONOMICS  \n",
    "\n",
    "      Department of College of Managment Science and Information Engineering\n",
    "           \n",
    "                    Specialty Of Information Management and Information System\n",
    "                                  \n",
    "                                     (2021)\n",
    "                                          \n",
    "                              \n",
    "                                   \n",
    "                            Final Assignment: Part 02\n",
    "                                          \n",
    "                                   12/07/2021\n",
    "                                      \n",
    "                               MODULE: Data Mining \n",
    "                               \n",
    "                  Submitted by: Sehun(陈雪) 0314021805421 (1854)\n",
    "                                 QQ: 2112440859 GitHub ID:sehun123456\n",
    "                                galaxy(潘婉莹) 0314021805419 (1854)\n",
    "                                 QQ: 1375057153 GitHub ID:galaxy1004"
   ]
  },
  {
   "cell_type": "markdown",
   "metadata": {},
   "source": [
    "# RULES:\n",
    "\n",
    "1. I have added tips and required learning resources for each question, which helps you to solve the exercise. \n",
    "\n",
    "2. Finish the assignment in **group of two students** (**Any group find copying/sharing from other group or internet will get '0' points!!!**)\n",
    "\n",
    "3. Once you finish the Assignment **[convert your .ipynb file into PDF](https://github.com/milaan9/91_Python_Tips/blob/main/000_Convert_Jupyter_Notebook_to_PDF.ipynb)** (both .pynb and .pdf file will be required!)\n",
    "\n",
    "4. Create **.zip** file and include your two files:\n",
    "    1. Your Jupyter Notebook file (**002_Python_Assignment_02.ipynb**)\n",
    "    2. Your PDF converted file of 002_Python_Assignment_02.ipynb (**002_Python_Assignment_02.pdf**)\n",
    "    \n",
    "5. Name your .zip file as your student numbers and names.\n",
    "\n",
    "   example: **0318021907632 0318021907633 Milan Nina(米兰 妮娜).zip**"
   ]
  },
  {
   "cell_type": "markdown",
   "metadata": {},
   "source": [
    "# Python Assignment 02"
   ]
  },
  {
   "cell_type": "markdown",
   "metadata": {},
   "source": [
    "### Question: Hangman Game\n",
    "\n",
    "Write a python program to create a Hangman game.\n",
    "\n",
    "**About Game:**\n",
    "Going back to our old school days, some of the pen-paper games were always a top for our leisure time. In Hangman user has to guess words according to the guesses determined and as soon as they lost all their wrong guesses, they were hanged (not really, but on paper 😉).\n",
    "In the game of Hangman, the player only has 7 incorrect guesses (head, body, 2 legs, and 2 arms, hang) before they lose the game.\n",
    "\n",
    "**Structure:**\n",
    "1. In Part 1, you will require to load a random word from a **[dictionary](https://github.com/milaan9/92_Python_Assignments/blob/main/sowpods.txt)**.\n",
    "2. In Part 2, you will require the logic for guessing the letter and displaying that information to the user. \n",
    "\n",
    "After completing part 1 and part 2 you will need to add the following features:\n",
    "\n",
    "**Features:**\n",
    "* Only let the user guess 7 times, and tell the user how many guesses they have left. Example: \"You have 6 guesses left!\"\n",
    "* No restriction in uppercase and lowercase letters.\n",
    "    - Example: user can guess \"a\" and it will be equal to \"A\" or vice-versa.\n",
    "* If user guesses a numbers or a special characters, don’t penalize them - ask them again to choose only letter.\n",
    "    - Example: user guess \"9\" or \"?\" then ask user again to choose a letter.\n",
    "* If the guess letter appear more than one time in the word display it. \n",
    "    - Example: Word is \"Apple\" and user guess the word 'p' so  -->     __ P  P  __  __\n",
    "* Keep track of the letters the user guessed incorrectly. If the user guesses a letter they already guessed, don’t penalize them - let them guess again.\n",
    "* Display some picture art for the Hangman. This is challenging - do the other parts of the exercise first!\n",
    "* When the player wins or loses, let them start a new game."
   ]
  },
  {
   "cell_type": "markdown",
   "metadata": {},
   "source": [
    "**Expected/Similar Output:**\n",
    "\n",
    "```\n",
    "***********************\n",
    "Welcome to Hangman!\n",
    "***********************\n",
    "Guess one letter at a time\n",
    "Game is not case sensitive\n",
    "\n",
    "__ __ __ __ __ __ __ __\n",
    "\n",
    "What is your guess?: a\n",
    "\n",
    "__  A  __ __  A  __ __ __\n",
    "\n",
    "What is your guess?: 9\n",
    "Please chose just a letter: e\n",
    "e is not in this word!\n",
    "   ____ \n",
    "  |    | \n",
    "\n",
    "You have 6 guesses left!\n",
    "your previous wrong guesses: ['E']\n",
    "\n",
    "__  A  __ __  A  __ __ __\n",
    "\n",
    "What is your guess?: e\n",
    "You have already guessed e!\n",
    "\n",
    "__  A  __ __  A  __ __ __\n",
    "\n",
    "What is your guess?: h\n",
    "h is not in this word!\n",
    "   ____ \n",
    "  |    | \n",
    "  |    O \n",
    "  |    |\n",
    "\n",
    "You have 5 guesses left!\n",
    "your previous wrong guesses: ['E', 'H']\n",
    "\n",
    "__  A  __ __  A  __ __ __\n",
    "\n",
    "What is your guess?: d\n",
    "d is not in this word!\n",
    "   ____ \n",
    "  |    | \n",
    "  |    O \n",
    "  |   /|\n",
    "\n",
    "You have 4 guesses left!\n",
    "your previous wrong guesses: ['E', 'H', 'D']\n",
    "\n",
    "__  A  __ __  A  __ __ __\n",
    "\n",
    "What is your guess?: b\n",
    "b is not in this word!\n",
    "   ____ \n",
    "  |    | \n",
    "  |    O \n",
    "  |   /|\\ \n",
    "  \n",
    "You have 3 guesses left! \n",
    "your previous wrong guesses: ['E', 'H', 'D', 'B']\n",
    "\n",
    "__  A  __ __  A  __ __ __\n",
    "\n",
    "What is your guess?: k\n",
    "\n",
    "K  A  __ __  A  __ __ __\n",
    "\n",
    "What is your guess?: r\n",
    "\n",
    "K  A  __ __  A  R __ __\n",
    "\n",
    "What is your guess?: t\n",
    "t is not in this word!\n",
    "\n",
    "   ____ \n",
    "  |    | \n",
    "  |    O \n",
    "  |   /|\\ \n",
    "  |   /   \n",
    "\n",
    "You have 2 guesses left! \n",
    "your previous wrong guesses: ['E', 'H', 'D', 'B', 'T']\n",
    "\n",
    "K  A  __ __  A  R __ __\n",
    "\n",
    "What is your guess?: l\n",
    "l is not in this word!\n",
    "\n",
    "   ____ \n",
    "  |    | \n",
    "  |    O \n",
    "  |   /|\\ \n",
    "  |   / \\\n",
    "\n",
    "You have 1 guesses left! \n",
    "your previous wrong guesses: ['E', 'H', 'D', 'B', 'T', 'L']\n",
    "\n",
    "K  A  __ __  A  R __ __\n",
    "\n",
    "What is your guess?: p\n",
    "p is not in this word!\n",
    "\n",
    "   ____ \n",
    "  |    | \n",
    "  |    | \n",
    "  |    O \n",
    "  |   /|\\ \n",
    "  |   / \\ \n",
    "__|__ \n",
    "\n",
    "You have 0 guesses left!\n",
    "You lose!\n",
    "your previous wrong guesses: ['E', 'H', 'D', 'B', 'T', 'L', 'P']\n",
    "\n",
    "The word was  ['K', 'A', 'N', 'G', 'A', 'R', 'O', 'O']\n",
    "\n",
    "Would you like to play again? [y|n]: n\n",
    "\n",
    "```"
   ]
  },
  {
   "cell_type": "code",
   "execution_count": 1,
   "metadata": {},
   "outputs": [],
   "source": [
    "LINEPERIMAGE=9\n",
    "LINES='''   ____ \n",
    "  |    | \n",
    "\n",
    "\n",
    "\n",
    "\n",
    "\n",
    "\n",
    "You have 6 guesses left!\n",
    "   ____ \n",
    "  |    | \n",
    "  |    O \n",
    "  |    |\n",
    "\n",
    "\n",
    "\n",
    "\n",
    "You have 5 guesses left!\n",
    "   ____ \n",
    "  |    | \n",
    "  |    O \n",
    "  |   /|\n",
    "\n",
    "\n",
    "\n",
    "\n",
    "You have 4 guesses left!\n",
    "   ____ \n",
    "  |    | \n",
    "  |    O \n",
    "  |   /|\\ \n",
    "  \n",
    "  \n",
    "  \n",
    "  \n",
    "You have 3 guesses left! \n",
    "   ____ \n",
    "  |    | \n",
    "  |    O \n",
    "  |   /|\\ \n",
    "  |   /   \n",
    "\n",
    "\n",
    "\n",
    "You have 2 guesses left! \n",
    "   ____ \n",
    "  |    | \n",
    "  |    O \n",
    "  |   /|\\ \n",
    "  |   / \\\n",
    "\n",
    "\n",
    "\n",
    "You have 1 guesses left! \n",
    "\n",
    "   ____ \n",
    "  |    | \n",
    "  |    | \n",
    "  |    O \n",
    "  |   /|\\ \n",
    "  |   / \\ \n",
    "__|__ \n",
    "\n",
    "You have 0 guesses left!'''"
   ]
  },
  {
   "cell_type": "code",
   "execution_count": 2,
   "metadata": {},
   "outputs": [
    {
     "name": "stdout",
     "output_type": "stream",
     "text": [
      "***********************\n",
      "Welcome to Hangman!\n",
      "***********************\n",
      "Guess one letter at a time\n",
      "Game is not case sensitive\n",
      "METRING\n",
      "\n"
     ]
    },
    {
     "name": "stdin",
     "output_type": "stream",
     "text": [
      "What is your guess?:  m\n"
     ]
    },
    {
     "name": "stdout",
     "output_type": "stream",
     "text": [
      "M __ __ __ __ __ __\n"
     ]
    },
    {
     "name": "stdin",
     "output_type": "stream",
     "text": [
      "What is your guess?:  n\n"
     ]
    },
    {
     "name": "stdout",
     "output_type": "stream",
     "text": [
      "M __ __ __ __ N __\n"
     ]
    },
    {
     "name": "stdin",
     "output_type": "stream",
     "text": [
      "What is your guess?:  b\n"
     ]
    },
    {
     "name": "stdout",
     "output_type": "stream",
     "text": [
      "   ____ \n",
      "  |    | \n",
      "\n",
      "\n",
      "\n",
      "\n",
      "\n",
      "\n",
      "You have 6 guesses left!\n",
      "your previous wrong guesses: ['B']\n",
      "M __ __ __ __ N __\n"
     ]
    },
    {
     "name": "stdin",
     "output_type": "stream",
     "text": [
      "What is your guess?:  v\n"
     ]
    },
    {
     "name": "stdout",
     "output_type": "stream",
     "text": [
      "   ____ \n",
      "  |    | \n",
      "  |    O \n",
      "  |    |\n",
      "\n",
      "\n",
      "\n",
      "\n",
      "You have 5 guesses left!\n",
      "your previous wrong guesses: ['B', 'V']\n",
      "M __ __ __ __ N __\n"
     ]
    },
    {
     "name": "stdin",
     "output_type": "stream",
     "text": [
      "What is your guess?:  c\n"
     ]
    },
    {
     "name": "stdout",
     "output_type": "stream",
     "text": [
      "   ____ \n",
      "  |    | \n",
      "  |    O \n",
      "  |   /|\n",
      "\n",
      "\n",
      "\n",
      "\n",
      "You have 4 guesses left!\n",
      "your previous wrong guesses: ['B', 'V', 'C']\n",
      "M __ __ __ __ N __\n"
     ]
    },
    {
     "name": "stdin",
     "output_type": "stream",
     "text": [
      "What is your guess?:  x\n"
     ]
    },
    {
     "name": "stdout",
     "output_type": "stream",
     "text": [
      "   ____ \n",
      "  |    | \n",
      "  |    O \n",
      "  |   /|\\ \n",
      "  \n",
      "  \n",
      "  \n",
      "  \n",
      "You have 3 guesses left! \n",
      "your previous wrong guesses: ['B', 'V', 'C', 'X']\n",
      "M __ __ __ __ N __\n"
     ]
    },
    {
     "name": "stdin",
     "output_type": "stream",
     "text": [
      "What is your guess?:  z\n"
     ]
    },
    {
     "name": "stdout",
     "output_type": "stream",
     "text": [
      "   ____ \n",
      "  |    | \n",
      "  |    O \n",
      "  |   /|\\ \n",
      "  |   /   \n",
      "\n",
      "\n",
      "\n",
      "You have 2 guesses left! \n",
      "your previous wrong guesses: ['B', 'V', 'C', 'X', 'Z']\n",
      "M __ __ __ __ N __\n"
     ]
    },
    {
     "name": "stdin",
     "output_type": "stream",
     "text": [
      "What is your guess?:  a\n"
     ]
    },
    {
     "name": "stdout",
     "output_type": "stream",
     "text": [
      "   ____ \n",
      "  |    | \n",
      "  |    O \n",
      "  |   /|\\ \n",
      "  |   / \n",
      "\n",
      "\n",
      "You have 1 guesses left! \n",
      "\n",
      "your previous wrong guesses: ['B', 'V', 'C', 'X', 'Z', 'A']\n",
      "M __ __ __ __ N __\n"
     ]
    },
    {
     "name": "stdin",
     "output_type": "stream",
     "text": [
      "What is your guess?:  s\n"
     ]
    },
    {
     "name": "stdout",
     "output_type": "stream",
     "text": [
      "   ____ \n",
      "  |    | \n",
      "  |    | \n",
      "  |    O \n",
      "  |   /|\\ \n",
      "  |   / \\ \n",
      "__|__ \n",
      "\n",
      "You have 0 guesses left!\n",
      "your previous wrong guesses: ['B', 'V', 'C', 'X', 'Z', 'A', 'S']\n",
      "M __ __ __ __ N __\n",
      "You lose!\n"
     ]
    },
    {
     "name": "stdin",
     "output_type": "stream",
     "text": [
      "Would you like to play again? [y|n]: n\n"
     ]
    }
   ],
   "source": [
    "# Solution:\n",
    "import random\n",
    "import string\n",
    "\n",
    "welcome='''***********************\n",
    "Welcome to Hangman!\n",
    "***********************\n",
    "Guess one letter at a time\n",
    "Game is not case sensitive'''\n",
    "print(welcome)\n",
    "\n",
    "with open('sowpods.txt', 'r') as f:\n",
    "    words = f.read().split()\n",
    "num = len(words)\n",
    "\n",
    "def print_hangman_word(mistakes=7, wrongs=[], word=''):\n",
    "    lines = LINES.split('\\n')\n",
    "    start = mistakes * LINEPERIMAGE\n",
    "    ls = []\n",
    "    for line in lines[start: start + LINEPERIMAGE]:\n",
    "        print(line)\n",
    "    if mistakes>-1:\n",
    "        print('your previous wrong guesses: %s' % wrongs)\n",
    "    print(word.replace('_','__'))\n",
    "\n",
    "def print_word(word, guests=''):\n",
    "    wk = []\n",
    "    for i in range(len(word)):\n",
    "        flag = True\n",
    "        for g in guests:\n",
    "            if g == word[i]:\n",
    "                flag = False\n",
    "                break\n",
    "        if flag:\n",
    "            wk.append('_ ')\n",
    "        else:\n",
    "            wk.append(word[i]+' ')\n",
    "    wk = ''.join(wk).strip()\n",
    "    if '_' in wk:\n",
    "        return False, wk\n",
    "    else:\n",
    "        return True, wk\n",
    "\n",
    "while True:\n",
    "    i = random.randint(0, num-1)\n",
    "    word = words[i]\n",
    "    guests = []\n",
    "    wrongs=[]\n",
    "\n",
    "    fail = True\n",
    "\n",
    "    print(word)\n",
    "\n",
    "    wk = print_word(word)[1]\n",
    "    print_hangman_word(-1, wk)\n",
    "    stakes = -1\n",
    "    while True:\n",
    "        x = input('What is your guess?: ').upper()\n",
    "        guests.append(x)\n",
    "        result = print_word(word, guests)\n",
    "        if result[0]:\n",
    "            fail = False\n",
    "            break\n",
    "        else:\n",
    "            if wk == result[1]:\n",
    "                stakes = stakes+1\n",
    "                wrongs.append(x)\n",
    "                print_hangman_word(stakes, wrongs, wk)\n",
    "            else:\n",
    "                wk = result[1]\n",
    "                print(wk.replace('_','__'))\n",
    "        if stakes == 6:\n",
    "            break\n",
    "    if fail:\n",
    "        print('You lose!')\n",
    "    else:\n",
    "        print('You win!')\n",
    "    x = input('Would you like to play again? [y|n]:')\n",
    "    if x=='n':\n",
    "        break"
   ]
  },
  {
   "cell_type": "code",
   "execution_count": null,
   "metadata": {},
   "outputs": [],
   "source": []
  }
 ],
 "metadata": {
  "hide_input": false,
  "kernelspec": {
   "display_name": "Python 3",
   "language": "python",
   "name": "python3"
  },
  "language_info": {
   "codemirror_mode": {
    "name": "ipython",
    "version": 3
   },
   "file_extension": ".py",
   "mimetype": "text/x-python",
   "name": "python",
   "nbconvert_exporter": "python",
   "pygments_lexer": "ipython3",
   "version": "3.7.0"
  },
  "toc": {
   "base_numbering": 1,
   "nav_menu": {},
   "number_sections": true,
   "sideBar": true,
   "skip_h1_title": false,
   "title_cell": "Table of Contents",
   "title_sidebar": "Contents",
   "toc_cell": false,
   "toc_position": {},
   "toc_section_display": true,
   "toc_window_display": false
  },
  "varInspector": {
   "cols": {
    "lenName": 16,
    "lenType": 16,
    "lenVar": 40
   },
   "kernels_config": {
    "python": {
     "delete_cmd_postfix": "",
     "delete_cmd_prefix": "del ",
     "library": "var_list.py",
     "varRefreshCmd": "print(var_dic_list())"
    },
    "r": {
     "delete_cmd_postfix": ") ",
     "delete_cmd_prefix": "rm(",
     "library": "var_list.r",
     "varRefreshCmd": "cat(var_dic_list()) "
    }
   },
   "types_to_exclude": [
    "module",
    "function",
    "builtin_function_or_method",
    "instance",
    "_Feature"
   ],
   "window_display": false
  }
 },
 "nbformat": 4,
 "nbformat_minor": 4
}
